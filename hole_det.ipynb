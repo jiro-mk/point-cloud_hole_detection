{
 "cells": [
  {
   "cell_type": "code",
   "execution_count": 9,
   "id": "9ad8333f-34b8-42a5-b370-8c88a5c46ac6",
   "metadata": {},
   "outputs": [
    {
     "name": "stderr",
     "output_type": "stream",
     "text": [
      "/home/kumaken/.local/lib/python3.8/site-packages/traittypes/traittypes.py:97: UserWarning: Given trait value dtype \"float64\" does not match required type \"float32\". A coerced copy has been created.\n",
      "  warnings.warn(\n"
     ]
    },
    {
     "data": {
      "application/vnd.jupyter.widget-view+json": {
       "model_id": "0db08e98b0814ca28423d7cb1a9a4eed",
       "version_major": 2,
       "version_minor": 0
      },
      "text/plain": [
       "Output()"
      ]
     },
     "metadata": {},
     "output_type": "display_data"
    }
   ],
   "source": [
    "import pandas as pd\n",
    "import random\n",
    "import numpy as np\n",
    "import k3d\n",
    "def gen_surface(xymin,xymax,step):\n",
    "    x=np.arange(xymin,xymax,step)\n",
    "    y=np.arange(xymin,xymax,step)\n",
    "    X,Y = np.meshgrid(x,y)\n",
    "    xx=X.flatten()\n",
    "    yy = Y.flatten()\n",
    "    zz = yy*0\n",
    "\n",
    "    points = np.zeros((xx.shape[0],3))\n",
    "    points[:,0]=xx\n",
    "    points[:,1]=yy\n",
    "    points[:,2]=zz\n",
    "    return points\n",
    "\n",
    "\n",
    "def patch(dataset,randomP,num):\n",
    "    pcl = np.empty((num*len(randomP),3))\n",
    "    # pcl=dataset\n",
    "    r =1\n",
    "    start =0\n",
    "    for i in randomP:\n",
    "        num1=int(num*random.choice(np.linspace(0.1,1.30)))\n",
    "        p=dataset[int(i),0:3]\n",
    "        d=np.linalg.norm((dataset[:,:3]-p),axis=1)\n",
    "        sort_id = np.argsort(d)\n",
    "        rr=np.linspace(0.002,0,num1)\n",
    "        sq=dataset[sort_id[:num1],:]\n",
    "        sq[:,2]=sq[:,2]-rr\n",
    "        dataset[sort_id[:num1]]=sq\n",
    "\n",
    "        pcl[start:start+num1,:]=np.asarray(sq[:num1,:])\n",
    "        start = start +num1\n",
    "    return pcl,dataset\n",
    "\n",
    "def farthest_point_sample(point, npoint):\n",
    "    \"\"\"\n",
    "    Input:\n",
    "        xyz: pointcloud data, [N, D]\n",
    "        npoint: number of samples\n",
    "    Return:\n",
    "        centroids: sampled pointcloud index, [npoint, D]\n",
    "    \"\"\"\n",
    "    N, D = point.shape\n",
    "    xyz = point[:,:3]\n",
    "    centroids = np.zeros((npoint,))\n",
    "    distance = np.ones((N,)) * 1e10\n",
    "    farthest = np.random.randint(0, N)\n",
    "    for i in range(npoint):\n",
    "        centroids[i] = farthest\n",
    "        centroid = xyz[farthest, :]\n",
    "        dist = np.sum((xyz - centroid) ** 2, -1)\n",
    "        mask = dist < distance\n",
    "        distance[mask] = dist[mask]\n",
    "        farthest = np.argmax(distance, -1)\n",
    "    point = point[centroids.astype(np.int32)]\n",
    "    return point,centroids\n",
    "\n",
    "\n",
    "point = gen_surface(0,0.3,0.001)\n",
    "a,b=farthest_point_sample(point, 10)\n",
    "pcl,dataset = patch(point,b,200)\n",
    "plot = k3d.plot()\n",
    "\n",
    "plot +=k3d.points(dataset[:,:3], point_size=0.0005)#, attribute=dataset[:,2], color_map=k3d.colormaps.basic_color_maps.Jet)\n",
    "#, attribute=scan[:,3], color_map=k3d.colormaps.basic_color_maps.Jet)\n",
    "plot.display()"
   ]
  },
  {
   "cell_type": "code",
   "execution_count": 6,
   "id": "f4cb5122-6f4e-4458-9749-ef627e73f2dd",
   "metadata": {},
   "outputs": [],
   "source": [
    "from scipy.spatial import Delaunay\n",
    "import open3d as o3d\n",
    "from functools import reduce\n",
    "def get_triangles_vertices(triangles, vertices):\n",
    "    triangles_vertices = []\n",
    "    for triangle in triangles:\n",
    "        new_triangles_vertices = [vertices[triangle[0]], vertices[triangle[1]], vertices[triangle[2]]]\n",
    "        triangles_vertices.append(new_triangles_vertices)\n",
    "    return np.array(triangles_vertices)\n",
    "\n",
    "def volume_under_triangle(triangle):\n",
    "    p1, p2, p3 = triangle\n",
    "    x1, y1, z1 = p1\n",
    "    x2, y2, z2 = p2\n",
    "    x3, y3, z3 = p3\n",
    "    return abs((z1+z2+z3)*(x1*y2-x2*y1+x2*y3-x3*y2+x3*y1-x1*y3)/6)\n",
    "\n"
   ]
  },
  {
   "cell_type": "code",
   "execution_count": 10,
   "id": "5a0c8578-3072-47d9-8478-8efa8d173c0f",
   "metadata": {},
   "outputs": [
    {
     "name": "stdout",
     "output_type": "stream",
     "text": [
      "volumes: 9.959115065859845e-07 m3\n"
     ]
    },
    {
     "data": {
      "application/vnd.jupyter.widget-view+json": {
       "model_id": "2c875c8c95464ab39d6013140b2a7c45",
       "version_major": 2,
       "version_minor": 0
      },
      "text/plain": [
       "Output()"
      ]
     },
     "metadata": {},
     "output_type": "display_data"
    },
    {
     "name": "stdout",
     "output_type": "stream",
     "text": [
      "clack num: 10\n"
     ]
    }
   ],
   "source": [
    "xy_catalog = []\n",
    "xyz =dataset\n",
    "for point in xyz:\n",
    "    xy_catalog.append([point[0], point[1]])\n",
    "tri = Delaunay(np.array(xy_catalog))\n",
    "surface = o3d.geometry.TriangleMesh()\n",
    "surface.vertices = o3d.utility.Vector3dVector(xyz)\n",
    "surface.triangles = o3d.utility.Vector3iVector(tri.simplices)\n",
    "# o3d.visualization.draw_geometries([surface], mesh_show_wireframe=True)\n",
    "volume = reduce(lambda a, b:  a + volume_under_triangle(b), get_triangles_vertices(surface.triangles, surface.vertices), 0)\n",
    "print(f\"volumes: {volume} m3\")\n",
    "import pyransac3d as pyrsc\n",
    "plane = pyrsc.Plane()\n",
    "best_eq, best_inliers= plane.fit(dataset, thresh=0.0005)\n",
    "iid = np.arange(len(dataset))\n",
    "d = np.delete(iid,best_inliers)\n",
    "cc=dataset[d,:]\n",
    "plot = k3d.plot()\n",
    "# plot +=k3d.points(point[:,:3], point_size=0.001)\n",
    "plot +=k3d.points(dataset[best_inliers,:3], point_size=0.001)#, attribute=dataset[best_inliers,2], color_map=k3d.colormaps.basic_color_maps.Jet)\n",
    "plot +=k3d.points(dataset[d,:3], point_size=0.001,  color = 0xff00ff)\n",
    "plot.display()\n",
    "\n",
    "import hdbscan\n",
    "clustering = hdbscan.HDBSCAN(min_samples=5).fit(dataset[d,:3])\n",
    "result = clustering.labels_\n",
    "n_clusters = len(set(result))\n",
    "print(\"clack num:\",n_clusters)\n"
   ]
  },
  {
   "cell_type": "code",
   "execution_count": null,
   "id": "dbe22520-7b04-4b80-bfba-3fc97a4dea32",
   "metadata": {},
   "outputs": [],
   "source": []
  }
 ],
 "metadata": {
  "kernelspec": {
   "display_name": "Python 3 (ipykernel)",
   "language": "python",
   "name": "python3"
  },
  "language_info": {
   "codemirror_mode": {
    "name": "ipython",
    "version": 3
   },
   "file_extension": ".py",
   "mimetype": "text/x-python",
   "name": "python",
   "nbconvert_exporter": "python",
   "pygments_lexer": "ipython3",
   "version": "3.8.10"
  }
 },
 "nbformat": 4,
 "nbformat_minor": 5
}
